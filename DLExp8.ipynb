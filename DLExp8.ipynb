{
  "nbformat": 4,
  "nbformat_minor": 0,
  "metadata": {
    "colab": {
      "provenance": [],
      "authorship_tag": "ABX9TyP0MkeMr/4XwEVpRVHrfaWm",
      "include_colab_link": true
    },
    "kernelspec": {
      "name": "python3",
      "display_name": "Python 3"
    },
    "language_info": {
      "name": "python"
    }
  },
  "cells": [
    {
      "cell_type": "markdown",
      "metadata": {
        "id": "view-in-github",
        "colab_type": "text"
      },
      "source": [
        "<a href=\"https://colab.research.google.com/github/AdityaTheEmpire/MLLAB/blob/main/DLExp8.ipynb\" target=\"_parent\"><img src=\"https://colab.research.google.com/assets/colab-badge.svg\" alt=\"Open In Colab\"/></a>"
      ]
    },
    {
      "cell_type": "code",
      "execution_count": 5,
      "metadata": {
        "colab": {
          "base_uri": "https://localhost:8080/"
        },
        "id": "QtxkPvY4LKSh",
        "outputId": "8ccd60f2-21d1-452f-970a-52a42a54ffd4"
      },
      "outputs": [
        {
          "output_type": "stream",
          "name": "stdout",
          "text": [
            "{'Neptune': 1}\n",
            "{'Neptune': 1, 'has': 2}\n",
            "{'Neptune': 1, 'has': 2, '14': 3}\n",
            "{'Neptune': 1, 'has': 2, '14': 3, 'confirmed': 4}\n",
            "{'Neptune': 1, 'has': 2, '14': 3, 'confirmed': 4, 'moons': 5}\n",
            "{'Neptune': 1, 'has': 2, '14': 3, 'confirmed': 4, 'moons': 5, '!': 6}\n",
            "{'Neptune': 1, 'has': 2, '14': 3, 'confirmed': 4, 'moons': 5, '!': 6, 'Jupiter': 7}\n",
            "{'Neptune': 1, 'has': 2, '14': 3, 'confirmed': 4, 'moons': 5, '!': 6, 'Jupiter': 7}\n",
            "{'Neptune': 1, 'has': 2, '14': 3, 'confirmed': 4, 'moons': 5, '!': 6, 'Jupiter': 7, '79': 8}\n",
            "{'Neptune': 1, 'has': 2, '14': 3, 'confirmed': 4, 'moons': 5, '!': 6, 'Jupiter': 7, '79': 8, 'known': 9}\n",
            "{'Neptune': 1, 'has': 2, '14': 3, 'confirmed': 4, 'moons': 5, '!': 6, 'Jupiter': 7, '79': 8, 'known': 9}\n",
            "{'Neptune': 1, 'has': 2, '14': 3, 'confirmed': 4, 'moons': 5, '!': 6, 'Jupiter': 7, '79': 8, 'known': 9, '.': 10}\n",
            "0 Jupiter\n",
            "1 has\n",
            "2 79\n",
            "3 known\n",
            "4 moons\n",
            "5 .\n"
          ]
        },
        {
          "output_type": "execute_result",
          "data": {
            "text/plain": [
              "array([[[0., 1., 0., 0., 0., 0., 0., 0., 0., 0., 0.],\n",
              "        [0., 0., 1., 0., 0., 0., 0., 0., 0., 0., 0.],\n",
              "        [0., 0., 0., 1., 0., 0., 0., 0., 0., 0., 0.],\n",
              "        [0., 0., 0., 0., 1., 0., 0., 0., 0., 0., 0.],\n",
              "        [0., 0., 0., 0., 0., 1., 0., 0., 0., 0., 0.],\n",
              "        [0., 0., 0., 0., 0., 0., 1., 0., 0., 0., 0.]],\n",
              "\n",
              "       [[0., 0., 0., 0., 0., 0., 0., 1., 0., 0., 0.],\n",
              "        [0., 0., 1., 0., 0., 0., 0., 0., 0., 0., 0.],\n",
              "        [0., 0., 0., 0., 0., 0., 0., 0., 1., 0., 0.],\n",
              "        [0., 0., 0., 0., 0., 0., 0., 0., 0., 1., 0.],\n",
              "        [0., 0., 0., 0., 0., 1., 0., 0., 0., 0., 0.],\n",
              "        [0., 0., 0., 0., 0., 0., 0., 0., 0., 0., 1.]]])"
            ]
          },
          "metadata": {},
          "execution_count": 5
        }
      ],
      "source": [
        "import numpy as np\n",
        "samples = {'Jupiter has 79 known moons .', 'Neptune has 14 confirmed moons !'}\n",
        "# Create an empty dictionary\n",
        "token_index = {}\n",
        "counter = 0\n",
        "for sample in samples:\n",
        "  for considered_word in sample.split():\n",
        "    if considered_word not in token_index:\n",
        "      token_index.update({considered_word : counter + 1})\n",
        "      counter = counter + 1\n",
        "    print(token_index)\n",
        "{'Jupiter': 1, 'has': 2, '79': 3, 'known': 4, 'moons': 5, '.': 6, 'Neptune': 7, '14': 8, 'confirmed': 9,\n",
        "'!': 10}\n",
        "# Set max_length to 6\n",
        "max_length = 6\n",
        "# Create a tensor of dimension 3 named results whose every elements are initialized to 0\n",
        "results  = np.zeros(shape = (len(samples), max_length, max(token_index.values()) + 1))\n",
        "# Now create a one-hot vector corresponding to the word\n",
        "# iterate over enumerate(samples) enumerate object\n",
        "for i, sample in enumerate(samples):\n",
        "  for j, considered_word in list(enumerate(sample.split())):\n",
        "    index = token_index.get(considered_word)\n",
        "    results[i, j, index] = 1.\n",
        "list(enumerate(sample.split()))   # enumerate object converted to list\n",
        "[(0, 'Neptune'),\n",
        "(1, 'has'),\n",
        "(2, '14'),\n",
        "(3, 'confirmed'),\n",
        "(4, 'moons'),\n",
        "(5, '!')]\n",
        "\n",
        "for j, considered_word in list(enumerate(sample.split())):\n",
        "  print(j, considered_word)\n",
        "results"
      ]
    }
  ]
}